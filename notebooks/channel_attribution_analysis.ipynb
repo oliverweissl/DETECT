{
 "cells": [
  {
   "cell_type": "code",
   "execution_count": null,
   "id": "initial_id",
   "metadata": {
    "collapsed": true
   },
   "outputs": [],
   "source": [
    "import os\n",
    "import pandas as pd\n",
    "import json\n",
    "import numpy as np\n",
    "import matplotlib.pyplot as plt\n",
    "from collections import Counter, defaultdict\n",
    "import cv2"
   ]
  },
  {
   "metadata": {},
   "cell_type": "code",
   "outputs": [],
   "execution_count": null,
   "source": [
    "def load_json_data(base_dir):\n",
    "    \"\"\"Load JSON data from directory structure and return DataFrame\"\"\"\n",
    "    data = []\n",
    "\n",
    "    for root, dirs, files in os.walk(base_dir):\n",
    "        for file in files:\n",
    "            if file.endswith('.json'):\n",
    "                file_path = os.path.join(root, file)\n",
    "                try:\n",
    "                    with open(file_path, 'r') as f:\n",
    "                        json_data = json.load(f)\n",
    "                        json_data['file_path'] = file_path\n",
    "                        data.append(json_data)\n",
    "                except Exception as e:\n",
    "                    print(f\"Error loading {file_path}: {e}\")\n",
    "\n",
    "    return pd.DataFrame(data)"
   ],
   "id": "9aab1f83a899c779"
  },
  {
   "metadata": {},
   "cell_type": "code",
   "outputs": [],
   "execution_count": null,
   "source": [
    "def get_channel_attribution(df, channel_name, frequency_threshold=0.7):\n",
    "    \"\"\"Analyze region+change combinations for a channel and determine attribution\"\"\"\n",
    "    channel_data = df[df['channel'] == channel_name]\n",
    "\n",
    "    if len(channel_data) == 0:\n",
    "        return None\n",
    "\n",
    "    # Count region+change combinations\n",
    "    region_change_counts = defaultdict(int)\n",
    "    total_samples = len(channel_data)\n",
    "\n",
    "    for _, row in channel_data.iterrows():\n",
    "        region = row.get('region', 'unknown')\n",
    "        change = row.get('change_type', 'unknown')\n",
    "        combination = f\"{region}+{change}\"\n",
    "        region_change_counts[combination] += 1\n",
    "\n",
    "    # Find most frequent combination\n",
    "    most_frequent = max(region_change_counts.items(), key=lambda x: x[1])\n",
    "    frequency = most_frequent[1] / total_samples\n",
    "\n",
    "    attribution = {\n",
    "        'channel': channel_name,\n",
    "        'most_frequent_combination': most_frequent[0],\n",
    "        'frequency': frequency,\n",
    "        'total_samples': total_samples,\n",
    "        'attributed': frequency >= frequency_threshold,\n",
    "        'all_combinations': dict(region_change_counts)"
   ],
   "id": "a0ee36b695f8de4"
  },
  {
   "metadata": {},
   "cell_type": "code",
   "outputs": [],
   "execution_count": null,
   "source": [
    "def analyze_all_channels_attribution(df, frequency_threshold=0.7):\n",
    "    \"\"\"Process all channels and return attribution results\"\"\"\n",
    "    channels = df['channel'].unique()\n",
    "    results = []\n",
    "\n",
    "    for channel in channels:\n",
    "        attribution = get_channel_attribution(df, channel, frequency_threshold)\n",
    "        if attribution:\n",
    "            results.append(attribution)\n",
    "\n",
    "    return results"
   ],
   "id": "b43de1dc0382abc1"
  },
  {
   "metadata": {},
   "cell_type": "code",
   "outputs": [],
   "execution_count": null,
   "source": [
    "def print_attribution_summary(attribution_results):\n",
    "    \"\"\"Print summary statistics of attribution analysis\"\"\"\n",
    "    total_channels = len(attribution_results)\n",
    "    attributed_channels = sum(1 for r in attribution_results if r['attributed'])\n",
    "\n",
    "    print(f\"Channel Attribution Summary\")\n",
    "    print(f\"=\" * 50)\n",
    "    print(f\"Total channels analyzed: {total_channels}\")\n",
    "    print(f\"Channels with clear attribution: {attributed_channels}\")\n",
    "    print(f\"Attribution rate: {attributed_channels/total_channels:.2%}\")\n",
    "    print()\n",
    "\n",
    "    print(\"Channel Details:\")\n",
    "    print(\"-\" * 50)\n",
    "    for result in attribution_results:\n",
    "        status = \"✓\" if result['attributed'] else \"✗\"\n",
    "        print(f\"{status} {result['channel']}: {result['most_frequent_combination']} \"\n",
    "              f\"({result['frequency']:.2%},"
   ],
   "id": "573bb50bc6797ac5"
  },
  {
   "metadata": {},
   "cell_type": "code",
   "outputs": [],
   "execution_count": null,
   "source": [
    "def plot_channel_samples(df, channels=None, samples_per_channel=3):\n",
    "    \"\"\"Display sample images for each channel for annotation purposes\"\"\"\n",
    "    if channels is None:\n",
    "        channels = df['channel'].unique()[:6]  # Limit to first 6 channels\n",
    "\n",
    "    fig, axes = plt.subplots(len(channels), samples_per_channel,\n",
    "                            figsize=(12, 3*len(channels)))\n",
    "\n",
    "    if len(channels) == 1:\n",
    "        axes = axes.reshape(1, -1)\n",
    "\n",
    "    for i, channel in enumerate(channels):\n",
    "        channel_data = df[df['channel'] == channel]\n",
    "        sample_data = channel_data.sample(min(samples_per_channel, len(channel_data)))\n",
    "\n",
    "        for j, (_, row) in enumerate(sample_data.iterrows()):\n",
    "            ax = axes[i, j] if len(channels) > 1 else axes[j]\n",
    "\n",
    "            # Try to load and display image if path exists\n",
    "            if 'image_path' in row and os.path.exists(row['image_path']):\n",
    "                img = cv2.imread(row['image_path'])\n",
    "                if img is not None:\n",
    "                    img = cv2.cvtColor(img, cv2.COLOR_BGR2RGB)\n",
    "                    ax.imshow(img)\n",
    "                    ax.set_title(f\"{channel}\\n{row.get('region', 'N/A')}+{row.get('change_type', 'N/A')}\")\n",
    "                else:\n",
    "                    ax.text(0.5, 0.5, 'Image not found', ha='center', va='center')\n",
    "                    ax.set_title(f\"{channel}\")\n",
    "            else:\n",
    "                ax.text(0.5, 0.5, f\"Sample {j+1}\\n{row.get('region', 'N/A')}+{row.get('change_type', 'N/A')}\",\n",
    "                       ha='center', va='center')\n",
    "                ax.set_title(f\"{channel}\")\n",
    "\n",
    "            ax.axis('off')\n",
    "\n",
    "    plt.tight_"
   ],
   "id": "e83060cc78130484"
  },
  {
   "metadata": {},
   "cell_type": "code",
   "outputs": [],
   "execution_count": null,
   "source": [
    "def save_attribution_results(attribution_results, output_file='channel_attribution_results.csv'):\n",
    "    \"\"\"Save attribution results to CSV file\"\"\"\n",
    "    results_df = pd.DataFrame([\n",
    "        {\n",
    "            'channel': r['channel'],\n",
    "            'most_frequent_combination': r['most_frequent_combination'],\n",
    "            'frequency': r['frequency'],\n",
    "            'total_samples': r['total_samples'],\n",
    "            'attributed': r['attributed']\n",
    "        }\n",
    "        for r in attribution_results\n",
    "    ])\n",
    "\n",
    "    results_df.to_csv(output_file, index=False)\n",
    "    print(f\"Results saved to {output_file}\")\n",
    "\n",
    "    return results_df"
   ],
   "id": "bb8283b3416a057a"
  },
  {
   "metadata": {},
   "cell_type": "code",
   "outputs": [],
   "execution_count": null,
   "source": [
    "def main(data_directory, frequency_threshold=0.7):\n",
    "    \"\"\"Main function to orchestrate the"
   ],
   "id": "641aff2ad2cfc442"
  }
 ],
 "metadata": {
  "kernelspec": {
   "display_name": "Python 3",
   "language": "python",
   "name": "python3"
  },
  "language_info": {
   "codemirror_mode": {
    "name": "ipython",
    "version": 2
   },
   "file_extension": ".py",
   "mimetype": "text/x-python",
   "name": "python",
   "nbconvert_exporter": "python",
   "pygments_lexer": "ipython2",
   "version": "2.7.6"
  }
 },
 "nbformat": 4,
 "nbformat_minor": 5
}
